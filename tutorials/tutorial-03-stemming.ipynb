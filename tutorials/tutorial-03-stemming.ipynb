{
  "nbformat": 4,
  "nbformat_minor": 0,
  "metadata": {
    "colab": {
      "provenance": []
    },
    "kernelspec": {
      "name": "python3",
      "display_name": "Python 3"
    },
    "language_info": {
      "name": "python"
    }
  },
  "cells": [
    {
      "cell_type": "markdown",
      "source": [
        "# IR Lab WiSe 2023: Stemming\n",
        "\n",
        "This tutorial shows how to use a stemmer in PyTerrier.\n",
        "\n",
        "**Attention:** The scenario below is cherry-picked to explain the concept of stopword lists with a minimal example.\n"
      ],
      "metadata": {
        "id": "U1Kz0xBDyzUU"
      }
    },
    {
      "cell_type": "code",
      "execution_count": null,
      "metadata": {
        "id": "R_mCYFH7wR7Z"
      },
      "outputs": [],
      "source": []
    }
  ]
}