{
  "nbformat": 4,
  "nbformat_minor": 0,
  "metadata": {
    "colab": {
      "provenance": []
    },
    "kernelspec": {
      "name": "python3",
      "display_name": "Python 3"
    },
    "language_info": {
      "name": "python"
    }
  },
  "cells": [
    {
      "cell_type": "markdown",
      "source": [
        "# IR Lab WiSe 2023: Lemmatization\n",
        "\n",
        "This tutorial shows how to configure and use custom lemmatizer in PyTerrier.\n",
        "\n",
        "**Attention:** The scenario below is cherry-picked to explain the concept of stopword lists with a minimal example.\n"
      ],
      "metadata": {
        "id": "HX8wZj6IzYL0"
      }
    }
  ]
}